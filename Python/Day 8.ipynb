{
 "cells": [
  {
   "cell_type": "markdown",
   "metadata": {},
   "source": [
    "# Advent of Code Day 8\n",
    "\n",
    "For Day 8, the goal is to build a string parser that dictates escaped characters and keeps track of counts within string literal blocks or outside of such blocks.  In part one, we just have to figure out the difference in counts between the two types.  In part two, we have to now re-escape all escapes and find the total number of additional escapes we had to add.  "
   ]
  },
  {
   "cell_type": "code",
   "execution_count": null,
   "metadata": {
    "collapsed": true
   },
   "outputs": [],
   "source": [
    "from utils import read_input"
   ]
  },
  {
   "cell_type": "code",
   "execution_count": null,
   "metadata": {
    "collapsed": true
   },
   "outputs": [],
   "source": [
    "def counts(s):\n",
    "   \n",
    "    literal = 0\n",
    "    specials = 0\n",
    "    \n",
    "    literal_mode = False\n",
    "    escape_mode = False\n",
    "    \n",
    "    ix = 0\n",
    "    \n",
    "    while ix < len(s):\n",
    "              \n",
    "        if literal_mode:\n",
    "            \n",
    "            if escape_mode:\n",
    "                if s[ix] == 'x':\n",
    "                    next_two = s[ix + 1: ix + 3]                                  \n",
    "                    ix += 3                                    \n",
    "                else:\n",
    "                    ix += 1\n",
    "                \n",
    "                escape_mode = False    \n",
    "                literal += 1\n",
    "                continue\n",
    "                    \n",
    "            \n",
    "            if s[ix] == '\\\\':\n",
    "                escape_mode = True              \n",
    "            elif s[ix] == '\"':\n",
    "                literal_mode = False\n",
    "                \n",
    "            else:\n",
    "                literal += 1\n",
    "        elif s[ix] == '\"':\n",
    "            literal_mode = True       \n",
    "            \n",
    "        ix += 1\n",
    "    \n",
    "    # For Part 2, we need to include the count of escaped characters.  The problem says they should be\n",
    "    # re-encoded and then summed up, but we can just add up the number of escapes and then add 2 (to account \n",
    "    # for encoding the opening and closing characters)\n",
    "    specials = 2 + sum([1 if c in ['\"', '\\\\', ] else 0 for c in s])\n",
    "    \n",
    "    return (len(s), literal, specials)\n",
    "    \n",
    "    "
   ]
  },
  {
   "cell_type": "code",
   "execution_count": null,
   "metadata": {
    "collapsed": false
   },
   "outputs": [],
   "source": [
    "lines = read_input('Input/day8.txt')\n",
    "\n",
    "line_counts = [counts(line) for line in lines]\n",
    "\n",
    "print 'Difference between total and literals = {}' \\\n",
    "        .format(reduce(lambda x, y: x + y, [total - literal for (total, literal, specials) in line_counts]))\n",
    "\n",
    "overall_encoded = sum([encoded for (_, _, encoded) in line_counts])\n",
    "\n",
    "print 'Difference between overall total and overall new encoded = {}'.format(overall_encoded)"
   ]
  },
  {
   "cell_type": "code",
   "execution_count": null,
   "metadata": {
    "collapsed": true
   },
   "outputs": [],
   "source": []
  }
 ],
 "metadata": {
  "anaconda-cloud": {},
  "kernelspec": {
   "display_name": "Python [Root]",
   "language": "python",
   "name": "Python [Root]"
  },
  "language_info": {
   "codemirror_mode": {
    "name": "ipython",
    "version": 2
   },
   "file_extension": ".py",
   "mimetype": "text/x-python",
   "name": "python",
   "nbconvert_exporter": "python",
   "pygments_lexer": "ipython2",
   "version": "2.7.12"
  }
 },
 "nbformat": 4,
 "nbformat_minor": 0
}
